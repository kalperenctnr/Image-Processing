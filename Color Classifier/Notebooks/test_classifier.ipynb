{
 "cells": [
  {
   "cell_type": "code",
   "execution_count": 1,
   "metadata": {},
   "outputs": [],
   "source": [
    "import sys\n",
    "sys.path.append(\"../Scripts/\")\n",
    "import preprocess\n",
    "import datasets"
   ]
  },
  {
   "cell_type": "code",
   "execution_count": 4,
   "metadata": {},
   "outputs": [],
   "source": [
    "import pickle\n",
    "import pandas as pd\n",
    "from sklearn.svm import SVC\n",
    "from sklearn.metrics import accuracy_score # import metrics to compute accuracy\n",
    "from datasets import ColorImageDataset"
   ]
  },
  {
   "cell_type": "code",
   "execution_count": 3,
   "metadata": {},
   "outputs": [],
   "source": [
    "dataset_dir = \"../Data/Test/\" # define the folder names for train dataset \n",
    "train_label_file = \"../Data/test_data.csv\"\n",
    "model_path = \"../Models/model_final_svm.p\""
   ]
  },
  {
   "cell_type": "code",
   "execution_count": 5,
   "metadata": {},
   "outputs": [],
   "source": [
    "test_data = pd.read_csv(train_label_file)\n",
    "\n",
    "test_dataset = ColorImageDataset(img_labels=test_data, dataset_dir=dataset_dir) # using torch dataset to wrap the datasets "
   ]
  },
  {
   "cell_type": "code",
   "execution_count": 6,
   "metadata": {},
   "outputs": [],
   "source": [
    "test_list_data = [data.tolist() for data, _ in test_dataset]\n",
    "test_list_label = [label for _, label in test_dataset]\n",
    "\n",
    "\n",
    "test_df = pd.DataFrame(test_list_data) # converting datasets to dataframe format as it is the input for sklearn classifiers \n",
    "test_label_df = pd.DataFrame(test_list_label, columns=[\"Labels\"])"
   ]
  },
  {
   "cell_type": "code",
   "execution_count": 7,
   "metadata": {},
   "outputs": [
    {
     "name": "stdout",
     "output_type": "stream",
     "text": [
      "Test Set Accuracy = 0.5556\n"
     ]
    }
   ],
   "source": [
    "svc = pickle.load(open(model_path, \"rb\"))\n",
    "\n",
    "y_pred=svc.predict(test_df)\n",
    "# compute and print accuracy score\n",
    "print(f'Test Set Accuracy = {accuracy_score(test_label_df, y_pred):.4f}')"
   ]
  }
 ],
 "metadata": {
  "kernelspec": {
   "display_name": "Python 3",
   "language": "python",
   "name": "python3"
  },
  "language_info": {
   "codemirror_mode": {
    "name": "ipython",
    "version": 3
   },
   "file_extension": ".py",
   "mimetype": "text/x-python",
   "name": "python",
   "nbconvert_exporter": "python",
   "pygments_lexer": "ipython3",
   "version": "3.8.8"
  }
 },
 "nbformat": 4,
 "nbformat_minor": 2
}
