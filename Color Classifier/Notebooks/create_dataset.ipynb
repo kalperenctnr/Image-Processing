{
 "cells": [
  {
   "cell_type": "code",
   "execution_count": 7,
   "metadata": {},
   "outputs": [],
   "source": [
    "import sys\n",
    "sys.path.append(\"../Scripts/\")\n",
    "import preprocess\n",
    "import datasets"
   ]
  },
  {
   "cell_type": "code",
   "execution_count": 1,
   "metadata": {},
   "outputs": [],
   "source": [
    "import os\n",
    "\n",
    "train_images_path = \"../Data/Train/\"\n",
    "image_folders = os.listdir(train_images_path)\n",
    "\n",
    "for folder in image_folders:\n",
    "    image_files = os.listdir(train_images_path+folder+\"/\")\n",
    "    i = 0\n",
    "    for image_file in image_files:\n",
    "        ## os.rename(train_images_path+folder+\"/\"+image_file, train_images_path+folder+\"/\"+ folder + \"_\" + str(i) + \".jpg\")\n",
    "        i +=1"
   ]
  },
  {
   "cell_type": "code",
   "execution_count": 85,
   "metadata": {},
   "outputs": [],
   "source": [
    "import os\n",
    "\n",
    "# organize images for further processing\n",
    "test_images_path = \"../Data/Test/\"\n",
    "image_folders = os.listdir(test_images_path)\n",
    "\n",
    "for folder in image_folders:\n",
    "    image_files = os.listdir(test_images_path+folder+\"/\")\n",
    "    i = 0\n",
    "    for image_file in image_files:\n",
    "        os.rename(test_images_path+folder+\"/\"+image_file, test_images_path+folder+\"/\"+ folder + \"_\" + str(i) + \".jpg\")\n",
    "        i +=1"
   ]
  },
  {
   "cell_type": "code",
   "execution_count": 21,
   "metadata": {},
   "outputs": [],
   "source": [
    "from preprocess import create_csv_dataset\n",
    "test_images_path = \"../Data/Train/\"\n",
    "csv_name = \"train_data\"\n",
    "csv_path = \"../Data/\"\n",
    "create_csv_dataset(test_images_path, csv_name, csv_path)"
   ]
  },
  {
   "cell_type": "code",
   "execution_count": 26,
   "metadata": {},
   "outputs": [],
   "source": [
    "\n",
    "test_images_path = \"../Data/Test/\"\n",
    "csv_name = \"test_data\"\n",
    "csv_path = \"../Data/\"\n",
    "create_csv_dataset(test_images_path, csv_name, csv_path)"
   ]
  }
 ],
 "metadata": {
  "kernelspec": {
   "display_name": "Python 3",
   "language": "python",
   "name": "python3"
  },
  "language_info": {
   "codemirror_mode": {
    "name": "ipython",
    "version": 3
   },
   "file_extension": ".py",
   "mimetype": "text/x-python",
   "name": "python",
   "nbconvert_exporter": "python",
   "pygments_lexer": "ipython3",
   "version": "3.8.8"
  }
 },
 "nbformat": 4,
 "nbformat_minor": 2
}
