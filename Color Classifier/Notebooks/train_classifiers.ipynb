{
 "cells": [
  {
   "cell_type": "code",
   "execution_count": 1,
   "metadata": {},
   "outputs": [],
   "source": [
    "import sys\n",
    "sys.path.append(\"../Scripts/\")\n",
    "import preprocess\n",
    "import datasets"
   ]
  },
  {
   "cell_type": "code",
   "execution_count": 2,
   "metadata": {},
   "outputs": [],
   "source": [
    "dataset_dir = \"../Data/Train/\" # define the folder names for train dataset \n",
    "train_label_file = \"../Data/train_data.csv\""
   ]
  },
  {
   "cell_type": "code",
   "execution_count": 4,
   "metadata": {},
   "outputs": [],
   "source": [
    "from datasets import ColorImageDataset\n",
    "from sklearn.model_selection import train_test_split\n",
    "import pandas as pd\n",
    "\n",
    "train_data = pd.read_csv(train_label_file)\n",
    "train_df, valid_df = train_test_split(train_data, test_size=0.2, random_state=42)   # split the train set into train and validation datasets\n",
    "\n",
    "train_dataset = ColorImageDataset(img_labels=train_df, dataset_dir=dataset_dir) # using torch dataset to wrap the datasets \n",
    "valid_dataset = ColorImageDataset(img_labels=valid_df, dataset_dir=dataset_dir) # and generate feature vectors\n",
    "\n"
   ]
  },
  {
   "cell_type": "code",
   "execution_count": 7,
   "metadata": {},
   "outputs": [],
   "source": [
    "train_list_data = [data.tolist() for data, _ in train_dataset]\n",
    "train_list_label = [label for _, label in train_dataset]\n",
    "\n",
    "\n",
    "train_df = pd.DataFrame(train_list_data) # converting datasets to dataframe format as it is the input for sklearn classifiers \n",
    "train_label_df = pd.DataFrame(train_list_label, columns=[\"Labels\"])"
   ]
  },
  {
   "cell_type": "code",
   "execution_count": 8,
   "metadata": {},
   "outputs": [],
   "source": [
    "valid_list_data = [data.tolist() for data, _ in valid_dataset]\n",
    "valid_list_label = [label for _, label in valid_dataset]\n",
    "\n",
    "\n",
    "valid_df = pd.DataFrame(valid_list_data) # converting datasets to dataframe format as it is the input for sklearn classifiers \n",
    "valid_label_df = pd.DataFrame(valid_list_label, columns=[\"Labels\"])"
   ]
  },
  {
   "cell_type": "code",
   "execution_count": 9,
   "metadata": {},
   "outputs": [
    {
     "name": "stdout",
     "output_type": "stream",
     "text": [
      "C = 1 kernel = linear Accuracy = 0.6406\n",
      "C = 1 kernel = rbf Accuracy = 0.6250\n",
      "C = 1 kernel = poly Accuracy = 0.6250\n",
      "C = 10 kernel = linear Accuracy = 0.6406\n",
      "C = 10 kernel = rbf Accuracy = 0.6406\n",
      "C = 10 kernel = poly Accuracy = 0.6094\n",
      "C = 50 kernel = linear Accuracy = 0.5312\n",
      "C = 50 kernel = rbf Accuracy = 0.5781\n",
      "C = 50 kernel = poly Accuracy = 0.5469\n",
      "C = 100 kernel = linear Accuracy = 0.5156\n",
      "C = 100 kernel = rbf Accuracy = 0.5781\n",
      "C = 100 kernel = poly Accuracy = 0.5000\n"
     ]
    }
   ],
   "source": [
    "from sklearn.svm import SVC\n",
    "from sklearn.metrics import accuracy_score # import metrics to compute accuracy\n",
    "\n",
    "C_list = [1, 10, 50, 100]\n",
    "kernel_list = ['linear', 'rbf', 'poly']\n",
    "\n",
    "for c_value in C_list:\n",
    "    for kernel_type in kernel_list:\n",
    "        svc=SVC(kernel=kernel_type, C=c_value) # instantiate classifier with default hyperparameters\n",
    "\n",
    "        # fit classifier to training set\n",
    "        svc.fit(train_df,train_label_df[\"Labels\"])\n",
    "        y_pred=svc.predict(valid_df)\n",
    "        # compute and print accuracy score\n",
    "        print(f'C = {c_value} kernel = {kernel_type} Accuracy = {accuracy_score(valid_label_df, y_pred):.4f}')\n"
   ]
  },
  {
   "cell_type": "code",
   "execution_count": 3,
   "metadata": {},
   "outputs": [],
   "source": [
    "import pickle\n",
    "import pandas as pd\n",
    "from sklearn.svm import SVC\n",
    "from sklearn.metrics import accuracy_score # import metrics to compute accuracy\n",
    "\n",
    "dataset_dir = \"../Data/Train/\" # define the folder names for train dataset \n",
    "train_label_file = \"../Data/train_data.csv\"\n",
    "train_data = pd.read_csv(train_label_file)\n",
    "\n",
    "train_dataset = ColorImageDataset(img_labels=train_data, dataset_dir=dataset_dir) # Whole train set after validation\n",
    "train_list_data = [data.tolist() for data, _ in train_dataset]\n",
    "train_list_label = [label for _, label in train_dataset]\n",
    "\n",
    "\n",
    "train_df = pd.DataFrame(train_list_data) # converting datasets to dataframe format as it is the input for sklearn classifiers \n",
    "train_label_df = pd.DataFrame(train_list_label, columns=[\"Labels\"])\n",
    "\n",
    "# Hyperparameters selected from the validation process\n",
    "C = 10\n",
    "kernel = 'linear'\n",
    "svc=SVC(kernel=kernel, C=C) # instantiate classifier with default hyperparameters\n",
    "\n",
    "# fit classifier to training set\n",
    "svc.fit(train_df,train_label_df[\"Labels\"])\n",
    "\n",
    "# save the final classifier\n",
    "pickle.dump(svc, open(\"../Models/model_final_svm.p\",\"wb\"))\n",
    "\n",
    "\n"
   ]
  }
 ],
 "metadata": {
  "kernelspec": {
   "display_name": "Python 3",
   "language": "python",
   "name": "python3"
  },
  "language_info": {
   "codemirror_mode": {
    "name": "ipython",
    "version": 3
   },
   "file_extension": ".py",
   "mimetype": "text/x-python",
   "name": "python",
   "nbconvert_exporter": "python",
   "pygments_lexer": "ipython3",
   "version": "3.8.8"
  }
 },
 "nbformat": 4,
 "nbformat_minor": 2
}
